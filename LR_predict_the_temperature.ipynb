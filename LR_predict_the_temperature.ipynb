{
  "nbformat": 4,
  "nbformat_minor": 0,
  "metadata": {
    "colab": {
      "provenance": [],
      "authorship_tag": "ABX9TyOBLxCypvWb/XfdAHy0edWB",
      "include_colab_link": true
    },
    "kernelspec": {
      "name": "python3",
      "display_name": "Python 3"
    },
    "language_info": {
      "name": "python"
    }
  },
  "cells": [
    {
      "cell_type": "markdown",
      "metadata": {
        "id": "view-in-github",
        "colab_type": "text"
      },
      "source": [
        "<a href=\"https://colab.research.google.com/github/yusain/ML_HomeWork/blob/main/LR_predict_the_temperature.ipynb\" target=\"_parent\"><img src=\"https://colab.research.google.com/assets/colab-badge.svg\" alt=\"Open In Colab\"/></a>"
      ]
    },
    {
      "cell_type": "code",
      "source": [
        "pip install pandas"
      ],
      "metadata": {
        "id": "8l_ENcQl_-P6",
        "colab": {
          "base_uri": "https://localhost:8080/"
        },
        "outputId": "9f31ecb8-281f-4339-cbad-d18d3cf24831"
      },
      "execution_count": 430,
      "outputs": [
        {
          "output_type": "stream",
          "name": "stdout",
          "text": [
            "Looking in indexes: https://pypi.org/simple, https://us-python.pkg.dev/colab-wheels/public/simple/\n",
            "Requirement already satisfied: pandas in /usr/local/lib/python3.7/dist-packages (1.3.5)\n",
            "Requirement already satisfied: numpy>=1.17.3 in /usr/local/lib/python3.7/dist-packages (from pandas) (1.21.6)\n",
            "Requirement already satisfied: python-dateutil>=2.7.3 in /usr/local/lib/python3.7/dist-packages (from pandas) (2.8.2)\n",
            "Requirement already satisfied: pytz>=2017.3 in /usr/local/lib/python3.7/dist-packages (from pandas) (2022.6)\n",
            "Requirement already satisfied: six>=1.5 in /usr/local/lib/python3.7/dist-packages (from python-dateutil>=2.7.3->pandas) (1.15.0)\n"
          ]
        }
      ]
    },
    {
      "cell_type": "code",
      "source": [
        "pip install numpy"
      ],
      "metadata": {
        "id": "ArEnOphAAMoB",
        "colab": {
          "base_uri": "https://localhost:8080/"
        },
        "outputId": "b3a3c953-d325-45cc-9a30-88d4e2bf99f0"
      },
      "execution_count": 431,
      "outputs": [
        {
          "output_type": "stream",
          "name": "stdout",
          "text": [
            "Looking in indexes: https://pypi.org/simple, https://us-python.pkg.dev/colab-wheels/public/simple/\n",
            "Requirement already satisfied: numpy in /usr/local/lib/python3.7/dist-packages (1.21.6)\n"
          ]
        }
      ]
    },
    {
      "cell_type": "code",
      "source": [
        "pip install matplotlib"
      ],
      "metadata": {
        "id": "qKMtCrzfAT6l",
        "colab": {
          "base_uri": "https://localhost:8080/"
        },
        "outputId": "0669648b-4073-4148-e5e4-2e6457875922"
      },
      "execution_count": 432,
      "outputs": [
        {
          "output_type": "stream",
          "name": "stdout",
          "text": [
            "Looking in indexes: https://pypi.org/simple, https://us-python.pkg.dev/colab-wheels/public/simple/\n",
            "Requirement already satisfied: matplotlib in /usr/local/lib/python3.7/dist-packages (3.2.2)\n",
            "Requirement already satisfied: kiwisolver>=1.0.1 in /usr/local/lib/python3.7/dist-packages (from matplotlib) (1.4.4)\n",
            "Requirement already satisfied: numpy>=1.11 in /usr/local/lib/python3.7/dist-packages (from matplotlib) (1.21.6)\n",
            "Requirement already satisfied: pyparsing!=2.0.4,!=2.1.2,!=2.1.6,>=2.0.1 in /usr/local/lib/python3.7/dist-packages (from matplotlib) (3.0.9)\n",
            "Requirement already satisfied: python-dateutil>=2.1 in /usr/local/lib/python3.7/dist-packages (from matplotlib) (2.8.2)\n",
            "Requirement already satisfied: cycler>=0.10 in /usr/local/lib/python3.7/dist-packages (from matplotlib) (0.11.0)\n",
            "Requirement already satisfied: typing-extensions in /usr/local/lib/python3.7/dist-packages (from kiwisolver>=1.0.1->matplotlib) (4.1.1)\n",
            "Requirement already satisfied: six>=1.5 in /usr/local/lib/python3.7/dist-packages (from python-dateutil>=2.1->matplotlib) (1.15.0)\n"
          ]
        }
      ]
    },
    {
      "cell_type": "code",
      "execution_count": 433,
      "metadata": {
        "id": "HWlxZuN-nvCb",
        "colab": {
          "base_uri": "https://localhost:8080/"
        },
        "outputId": "946f556c-def7-4c07-9c6e-52cc76fde230"
      },
      "outputs": [
        {
          "output_type": "stream",
          "name": "stdout",
          "text": [
            "Looking in indexes: https://pypi.org/simple, https://us-python.pkg.dev/colab-wheels/public/simple/\n",
            "Requirement already satisfied: scikit-learn in /usr/local/lib/python3.7/dist-packages (1.0.2)\n",
            "Requirement already satisfied: numpy>=1.14.6 in /usr/local/lib/python3.7/dist-packages (from scikit-learn) (1.21.6)\n",
            "Requirement already satisfied: joblib>=0.11 in /usr/local/lib/python3.7/dist-packages (from scikit-learn) (1.2.0)\n",
            "Requirement already satisfied: threadpoolctl>=2.0.0 in /usr/local/lib/python3.7/dist-packages (from scikit-learn) (3.1.0)\n",
            "Requirement already satisfied: scipy>=1.1.0 in /usr/local/lib/python3.7/dist-packages (from scikit-learn) (1.7.3)\n"
          ]
        }
      ],
      "source": [
        "pip install scikit-learn\n"
      ]
    },
    {
      "cell_type": "code",
      "source": [
        "import numpy as np\n",
        "import pandas as pd\n",
        "import matplotlib.pyplot as plt\n",
        "from sklearn.model_selection import train_test_split\n",
        "from sklearn.preprocessing import StandardScaler, MinMaxScaler\n",
        "from sklearn.linear_model import LinearRegression, SGDRegressor\n",
        "from sklearn.metrics import mean_squared_error"
      ],
      "metadata": {
        "id": "LDGYs56gBhjq"
      },
      "execution_count": 434,
      "outputs": []
    },
    {
      "cell_type": "code",
      "source": [
        "data_df = pd.read_csv(\"https://raw.githubusercontent.com/hwweiCOAIPP/test/main/SimpleWeather.csv\", header = 0, sep = \",\")"
      ],
      "metadata": {
        "id": "CbbMVGlzpYqj"
      },
      "execution_count": 435,
      "outputs": []
    },
    {
      "cell_type": "code",
      "source": [
        "print(data_df)"
      ],
      "metadata": {
        "id": "8GKpK7vlDkdh",
        "colab": {
          "base_uri": "https://localhost:8080/"
        },
        "outputId": "b047142e-7f1b-4421-ddf0-e90bc089bfb6"
      },
      "execution_count": 436,
      "outputs": [
        {
          "output_type": "stream",
          "name": "stdout",
          "text": [
            "       Unnamed: 0  Temperature (C)  Apparent Temperature (C)  Humidity  \\\n",
            "0               0         9.472222                  7.388889      0.89   \n",
            "1               1         9.355556                  7.227778      0.86   \n",
            "2               2         9.377778                  9.377778      0.89   \n",
            "3               3         8.288889                  5.944444      0.83   \n",
            "4               4         8.755556                  6.977778      0.83   \n",
            "...           ...              ...                       ...       ...   \n",
            "96448       96448        26.016667                 26.016667      0.43   \n",
            "96449       96449        24.583333                 24.583333      0.48   \n",
            "96450       96450        22.038889                 22.038889      0.56   \n",
            "96451       96451        21.522222                 21.522222      0.60   \n",
            "96452       96452        20.438889                 20.438889      0.61   \n",
            "\n",
            "       Wind Speed (km/h)  Wind Bearing (degrees)  Visibility (km)  \\\n",
            "0                14.1197                   251.0          15.8263   \n",
            "1                14.2646                   259.0          15.8263   \n",
            "2                 3.9284                   204.0          14.9569   \n",
            "3                14.1036                   269.0          15.8263   \n",
            "4                11.0446                   259.0          15.8263   \n",
            "...                  ...                     ...              ...   \n",
            "96448            10.9963                    31.0          16.1000   \n",
            "96449            10.0947                    20.0          15.5526   \n",
            "96450             8.9838                    30.0          16.1000   \n",
            "96451            10.5294                    20.0          16.1000   \n",
            "96452             5.8765                    39.0          15.5204   \n",
            "\n",
            "       Pressure (millibars)  \n",
            "0                   1015.13  \n",
            "1                   1015.63  \n",
            "2                   1015.94  \n",
            "3                   1016.41  \n",
            "4                   1016.51  \n",
            "...                     ...  \n",
            "96448               1014.36  \n",
            "96449               1015.16  \n",
            "96450               1015.66  \n",
            "96451               1015.95  \n",
            "96452               1016.16  \n",
            "\n",
            "[96453 rows x 8 columns]\n"
          ]
        }
      ]
    },
    {
      "cell_type": "code",
      "source": [
        "trainD = np.array(data_df[['Apparent Temperature (C)']])\n",
        "print(trainD)"
      ],
      "metadata": {
        "id": "By_JRHDyMLkS",
        "colab": {
          "base_uri": "https://localhost:8080/"
        },
        "outputId": "6b9dd254-e48e-4344-a590-d45ce6f28bed"
      },
      "execution_count": 437,
      "outputs": [
        {
          "output_type": "stream",
          "name": "stdout",
          "text": [
            "[[ 7.38888889]\n",
            " [ 7.22777778]\n",
            " [ 9.37777778]\n",
            " ...\n",
            " [22.03888889]\n",
            " [21.52222222]\n",
            " [20.43888889]]\n"
          ]
        }
      ]
    },
    {
      "cell_type": "code",
      "source": [
        "testD = np.array(data_df[['Temperature (C)']])  #data_df[[\"Temperature (C)]] = Temperature的資料\n",
        "print(testD)"
      ],
      "metadata": {
        "id": "v1iMUVZTEqtJ",
        "colab": {
          "base_uri": "https://localhost:8080/"
        },
        "outputId": "fbc17659-ffe5-44f5-b6e1-e7c77b38eb96"
      },
      "execution_count": 438,
      "outputs": [
        {
          "output_type": "stream",
          "name": "stdout",
          "text": [
            "[[ 9.47222222]\n",
            " [ 9.35555556]\n",
            " [ 9.37777778]\n",
            " ...\n",
            " [22.03888889]\n",
            " [21.52222222]\n",
            " [20.43888889]]\n"
          ]
        }
      ]
    },
    {
      "cell_type": "code",
      "source": [
        "# to numpy array\n",
        "arryD = data_df.to_numpy()"
      ],
      "metadata": {
        "id": "oiGkv1vtSBcg"
      },
      "execution_count": 439,
      "outputs": []
    },
    {
      "cell_type": "code",
      "source": [
        "# matplot\n",
        "fig = plt.figure()\n",
        "ax = fig.add_subplot(projection = '3d')\n",
        "Temperature  = arryD[0::,1]\n",
        "ApparentTemperature  = arryD[0::,2]\n",
        "Humidity = arryD[0::,3]\n",
        "\n",
        "ax.set_xlabel('Temperature')\n",
        "ax.set_xlabel('ApparentTemperature')\n",
        "ax.set_xlabel('Humidity')\n",
        "ax.scatter(Temperature,ApparentTemperature,Humidity,cmap='Reds',label='TH_3D',marker='o')"
      ],
      "metadata": {
        "colab": {
          "base_uri": "https://localhost:8080/",
          "height": 265
        },
        "id": "VK2cSApaYe4a",
        "outputId": "dfc59d5d-2aed-42c8-8e02-69f98df99d2e"
      },
      "execution_count": 442,
      "outputs": [
        {
          "output_type": "execute_result",
          "data": {
            "text/plain": [
              "<mpl_toolkits.mplot3d.art3d.Path3DCollection at 0x7f53c21ae550>"
            ]
          },
          "metadata": {},
          "execution_count": 442
        },
        {
          "output_type": "display_data",
          "data": {
            "text/plain": [
              "<Figure size 432x288 with 1 Axes>"
            ],
            "image/png": "[encoded data removed]"
          },
          "metadata": {
            "needs_background": "light"
          }
        }
      ]
    },
    {
      "cell_type": "code",
      "source": [
        "X_train, X_test, y_train, y_test = train_test_split(trainD, testD, test_size=0.2, random_state=42)"
      ],
      "metadata": {
        "id": "gylfVC6HEQIp"
      },
      "execution_count": 443,
      "outputs": []
    },
    {
      "cell_type": "code",
      "source": [
        "print(X_train.shape)\n",
        "print(X_test.shape)\n",
        "std_Xtrain=StandardScaler().fit_transform(X_train)\n",
        "std_Xtest=StandardScaler().fit_transform(X_test)\n",
        "std_ytrain=StandardScaler().fit_transform(y_train.reshape(-1, 1))\n",
        "std_ytest=StandardScaler().fit_transform(y_test.reshape(-1, 1))"
      ],
      "metadata": {
        "colab": {
          "base_uri": "https://localhost:8080/"
        },
        "id": "psf3HMtwZww-",
        "outputId": "d3ee3f23-16c2-4847-df84-e3aaf3a5cee1"
      },
      "execution_count": 444,
      "outputs": [
        {
          "output_type": "stream",
          "name": "stdout",
          "text": [
            "(77162, 1)\n",
            "(19291, 1)\n"
          ]
        }
      ]
    },
    {
      "cell_type": "code",
      "source": [
        "LR=LinearRegression()\n",
        "LR.fit(std_Xtrain,std_ytrain)\n",
        "print('the value of default measurement of linear regression',\n",
        "      LR.score(std_Xtrain,std_ytrain))\n",
        "train_pred=LR.predict(std_Xtrain)\n",
        "test_pred=LR.predict(std_Xtest)"
      ],
      "metadata": {
        "colab": {
          "base_uri": "https://localhost:8080/"
        },
        "id": "9RaZ-0saZ0ce",
        "outputId": "880879f7-16af-446b-b133-46b4b94e9d22"
      },
      "execution_count": 445,
      "outputs": [
        {
          "output_type": "stream",
          "name": "stdout",
          "text": [
            "the value of default measurement of linear regression 0.9852649438621494\n"
          ]
        }
      ]
    },
    {
      "cell_type": "code",
      "source": [
        "print('MSE train:%.3f,test:%.3f'%(mean_squared_error(std_ytrain,train_pred)\n",
        "                                  ,mean_squared_error(std_ytest,test_pred)))"
      ],
      "metadata": {
        "colab": {
          "base_uri": "https://localhost:8080/"
        },
        "id": "lNl7MlitZ4X6",
        "outputId": "0e6a1a78-0e97-42f8-fa85-b79393981909"
      },
      "execution_count": 446,
      "outputs": [
        {
          "output_type": "stream",
          "name": "stdout",
          "text": [
            "MSE train:0.015,test:0.015\n"
          ]
        }
      ]
    },
    {
      "cell_type": "code",
      "source": [
        "y_pred = LR.predict(X_test)\n",
        "plt.scatter(X_test, y_test, color='r')\n",
        "plt.plot(X_test, y_pred, color='g')\n",
        "plt.show()"
      ],
      "metadata": {
        "colab": {
          "base_uri": "https://localhost:8080/",
          "height": 265
        },
        "id": "HLrm9W7UhCaY",
        "outputId": "e8f15058-4a25-4500-d3c3-a4d838bdc21f"
      },
      "execution_count": 447,
      "outputs": [
        {
          "output_type": "display_data",
          "data": {
            "text/plain": [
              "<Figure size 432x288 with 1 Axes>"
            ],
            "image/png": "[encoded data removed]"
          },
          "metadata": {
            "needs_background": "light"
          }
        }
      ]
    }
  ]
}